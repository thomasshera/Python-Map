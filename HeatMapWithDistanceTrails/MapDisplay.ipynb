{
 "cells": [
  {
   "cell_type": "code",
   "execution_count": 4,
   "metadata": {
    "collapsed": true
   },
   "outputs": [],
   "source": [
    "# data handling\n",
    "import csv\n",
    "import pandas as pd\n",
    "import numpy as np\n",
    "\n",
    "# map creation\n",
    "import folium\n",
    "import folium.plugins as plugins\n",
    "from folium.plugins import HeatMapWithTime\n",
    "\n",
    "#parse and load csv file into a Pandas DataFrame\n",
    "filename = 'Division.csv'\n",
    "csvfile = open(filename,'r')\n",
    "df = pd.read_csv(csvfile,parse_dates=['MAP_DATE'])\n",
    "\n",
    "# group by date \n",
    "bydate_df = df.groupby(['MAP_DATE'])\n",
    "\n",
    "# filter for columns we are interested in, drop NaN, marshall into list\n",
    "# also drop groups with less than 50 members\n",
    "heat_data = [grouped.loc[:,['POINT_Y','POINT_X','Weight_D']].dropna().values.tolist() \n",
    "             for index,grouped in bydate_df if grouped.apply(lambda x: len(x) > 50).all()]\n",
    "\n",
    "times = []\n",
    "#get an index list of timestamps (again, only those groups with atleast 50 members)\n",
    "for index,grouped in bydate_df:\n",
    "    if grouped.apply(lambda x: len(x) > 50).all():\n",
    "        times.append(index.strftime('%Y-%m-%d'))\n"
   ]
  },
  {
   "cell_type": "code",
   "execution_count": null,
   "metadata": {
    "collapsed": true
   },
   "outputs": [],
   "source": []
  },
  {
   "cell_type": "code",
   "execution_count": null,
   "metadata": {
    "collapsed": true
   },
   "outputs": [],
   "source": []
  },
  {
   "cell_type": "code",
   "execution_count": null,
   "metadata": {
    "collapsed": true
   },
   "outputs": [],
   "source": []
  }
 ],
 "metadata": {
  "kernelspec": {
   "display_name": "Python 2",
   "language": "python",
   "name": "python2"
  },
  "language_info": {
   "codemirror_mode": {
    "name": "ipython",
    "version": 2
   },
   "file_extension": ".py",
   "mimetype": "text/x-python",
   "name": "python",
   "nbconvert_exporter": "python",
   "pygments_lexer": "ipython2",
   "version": "2.7.13"
  }
 },
 "nbformat": 4,
 "nbformat_minor": 2
}
