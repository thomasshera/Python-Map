{
 "cells": [
  {
   "cell_type": "code",
   "execution_count": 1,
   "metadata": {
    "collapsed": true
   },
   "outputs": [],
   "source": [
    "# data handling\n",
    "import csv\n",
    "import pandas as pd\n",
    "import numpy as np\n",
    "\n",
    "\n",
    "# map creation\n",
    "import folium\n",
    "import folium.plugins as plugins\n",
    "from folium.plugins import HeatMapWithTime\n",
    "\n",
    "# parse and load csv file into a Pandas DataFrame\n",
    "filename = 'Division.csv'\n",
    "csvfile = open(filename,'r')\n",
    "df = pd.read_csv(csvfile,parse_dates=['MAP_DATE'])\n",
    "\n",
    "# why is this all commented out?\n",
    "\n",
    "grouped_div = df.groupby(['Army_Group','Num_Name'])\n",
    "#grouped_div.groups.keys()\n",
    "#for key in grouped_div.groups.keys():\n",
    "#    div_num = key[1]\n",
    "#    if isinstance(div_num,str):\n",
    "#        div_df = grouped_div.get_group(key) #[['POINT_Y','POINT_X','OBJECTID','MAP_DATE']]\n",
    "#        newgroups = div_df.groupby(['MAP_DATE'])\n",
    "#        for newkey in newgroups.groups.keys():\n",
    "#            newdf = newgroups.get_group(newkey)\n",
    "#            print(key,newkey,len(newdf.index))\n",
    "\n",
    "div_df = grouped_div.get_group(('INF Division','268'))[['POINT_Y','POINT_X']]"
   ]
  },
  {
   "cell_type": "code",
   "execution_count": null,
   "metadata": {
    "collapsed": true
   },
   "outputs": [],
   "source": []
  },
  {
   "cell_type": "code",
   "execution_count": null,
   "metadata": {
    "collapsed": true
   },
   "outputs": [],
   "source": []
  }
 ],
 "metadata": {
  "kernelspec": {
   "display_name": "Python 2",
   "language": "python",
   "name": "python2"
  },
  "language_info": {
   "codemirror_mode": {
    "name": "ipython",
    "version": 2
   },
   "file_extension": ".py",
   "mimetype": "text/x-python",
   "name": "python",
   "nbconvert_exporter": "python",
   "pygments_lexer": "ipython2",
   "version": "2.7.13"
  }
 },
 "nbformat": 4,
 "nbformat_minor": 2
}
